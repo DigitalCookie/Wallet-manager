{
 "cells": [
  {
   "cell_type": "code",
   "execution_count": 16,
   "metadata": {},
   "outputs": [],
   "source": [
    "import ccxt\n",
    "import pandas as pd\n",
    "import talib \n",
    "import numpy as np\n",
    "from datetime import datetime\n",
    "from IPython.display import display"
   ]
  },
  {
   "cell_type": "code",
   "execution_count": 5,
   "metadata": {},
   "outputs": [],
   "source": [
    "data = pd.read_csv(\"nasdaq_screener_1672928102560.csv\")"
   ]
  },
  {
   "cell_type": "code",
   "execution_count": 9,
   "metadata": {},
   "outputs": [
    {
     "name": "stdout",
     "output_type": "stream",
     "text": [
      "     Symbol                                              Name Last Sale  \\\n",
      "0      AACG  ATA Creativity Global American Depositary Shares     $1.27   \n",
      "1      AACI           Armada Acquisition Corp. I Common Stock    $10.14   \n",
      "2     AACIW                Armada Acquisition Corp. I Warrant    $0.015   \n",
      "3      AADI                 Aadi Bioscience Inc. Common Stock    $12.67   \n",
      "4       AAL         American Airlines Group Inc. Common Stock    $13.59   \n",
      "...     ...                                               ...       ...   \n",
      "4499   ZUMZ                          Zumiez Inc. Common Stock   $22.575   \n",
      "4500   ZVSA            ZyVersa Therapeutics Inc. Common Stock   $1.5501   \n",
      "4501   ZYME                       Zymeworks Inc. Common Stock     $7.67   \n",
      "4502   ZYNE         Zynerba Pharmaceuticals Inc. Common Stock   $0.5582   \n",
      "4503   ZYXI                           Zynex Inc. Common Stock    $14.11   \n",
      "\n",
      "      Net Change  % Change    Market Cap        Country  IPO Year    Volume  \\\n",
      "0         0.0100    0.794%  3.984869e+07          China    2008.0      1350   \n",
      "1         0.0100    0.099%  2.099943e+08  United States    2021.0      7253   \n",
      "2        -0.0349   -69.94%  0.000000e+00  United States    2021.0      2795   \n",
      "3         0.3600    2.924%  3.090861e+08  United States       NaN     57841   \n",
      "4         0.8500    6.672%  8.832153e+09  United States       NaN  34359051   \n",
      "...          ...       ...           ...            ...       ...       ...   \n",
      "4499      0.5650    2.567%  4.400039e+08  United States    2005.0    428184   \n",
      "4500     -0.1799  -10.399%  1.407789e+07  United States    2022.0     30639   \n",
      "4501      0.1300    1.724%  4.831817e+08  United States       NaN    356131   \n",
      "4502      0.0091    1.657%  2.627040e+07  United States    2015.0    288778   \n",
      "4503      0.2300    1.657%  5.432350e+08  United States       NaN     99851   \n",
      "\n",
      "                      Sector  \\\n",
      "0     Consumer Discretionary   \n",
      "1                Industrials   \n",
      "2                Industrials   \n",
      "3                Health Care   \n",
      "4     Consumer Discretionary   \n",
      "...                      ...   \n",
      "4499                     NaN   \n",
      "4500             Health Care   \n",
      "4501             Health Care   \n",
      "4502             Health Care   \n",
      "4503             Health Care   \n",
      "\n",
      "                                               Industry  \n",
      "0                        Service to the Health Industry  \n",
      "1                       Consumer Electronics/Appliances  \n",
      "2                       Consumer Electronics/Appliances  \n",
      "3            Biotechnology: Pharmaceutical Preparations  \n",
      "4                         Air Freight/Delivery Services  \n",
      "...                                                 ...  \n",
      "4499                                                NaN  \n",
      "4500         Biotechnology: Pharmaceutical Preparations  \n",
      "4501  Biotechnology: Biological Products (No Diagnos...  \n",
      "4502         Biotechnology: Pharmaceutical Preparations  \n",
      "4503                              Other Pharmaceuticals  \n",
      "\n",
      "[4504 rows x 11 columns]\n"
     ]
    }
   ],
   "source": [
    "print(data)"
   ]
  },
  {
   "cell_type": "code",
   "execution_count": 10,
   "metadata": {},
   "outputs": [],
   "source": [
    "tickers=data[[\"Symbol\",\"Name\"]]"
   ]
  },
  {
   "cell_type": "code",
   "execution_count": 11,
   "metadata": {},
   "outputs": [
    {
     "name": "stdout",
     "output_type": "stream",
     "text": [
      "     Symbol                                              Name\n",
      "0      AACG  ATA Creativity Global American Depositary Shares\n",
      "1      AACI           Armada Acquisition Corp. I Common Stock\n",
      "2     AACIW                Armada Acquisition Corp. I Warrant\n",
      "3      AADI                 Aadi Bioscience Inc. Common Stock\n",
      "4       AAL         American Airlines Group Inc. Common Stock\n",
      "...     ...                                               ...\n",
      "4499   ZUMZ                          Zumiez Inc. Common Stock\n",
      "4500   ZVSA            ZyVersa Therapeutics Inc. Common Stock\n",
      "4501   ZYME                       Zymeworks Inc. Common Stock\n",
      "4502   ZYNE         Zynerba Pharmaceuticals Inc. Common Stock\n",
      "4503   ZYXI                           Zynex Inc. Common Stock\n",
      "\n",
      "[4504 rows x 2 columns]\n"
     ]
    }
   ],
   "source": [
    "print(tickers)"
   ]
  },
  {
   "cell_type": "code",
   "execution_count": null,
   "metadata": {},
   "outputs": [],
   "source": []
  },
  {
   "cell_type": "code",
   "execution_count": 32,
   "metadata": {},
   "outputs": [],
   "source": [
    "list_tck = pd.read_excel(\"Euronext_Equities_2023-01-09.xlsx\")\n",
    "list_tck=list_tck.dropna()"
   ]
  },
  {
   "cell_type": "code",
   "execution_count": 33,
   "metadata": {},
   "outputs": [
    {
     "name": "stdout",
     "output_type": "stream",
     "text": [
      "                    Name          ISIN Symbol                 Market Currency  \\\n",
      "3             1000MERCIS  FR0010285965  ALMIL  Euronext Growth Paris      EUR   \n",
      "4           2020 BULKERS  BMG9156K1018   2020              Oslo Børs      NOK   \n",
      "5                  2CRSI  FR0013341781  AL2SI  Euronext Growth Paris      EUR   \n",
      "6       5TH PLANET GAMES  DK0060945467    5PG   Euronext Expand Oslo      NOK   \n",
      "7          A.S.T. GROUPE  FR0000076887  ALAST  Euronext Growth Paris      EUR   \n",
      "...                  ...           ...    ...                    ...      ...   \n",
      "1747                ZCCM  ZM0000000037  MLZAM  Euronext Access Paris      EUR   \n",
      "1748         ZCI LIMITED  BMG9887P1068     CV         Euronext Paris      EUR   \n",
      "1749       ZENITH ENERGY  CA98936C1068   ZENA   Euronext Growth Oslo      NOK   \n",
      "1750  ZENOBE GRAMME CERT  BE0003809267    ZEN      Euronext Brussels      EUR   \n",
      "1751               ZWIPE  NO0010721277  ZWIPE   Euronext Growth Oslo      NOK   \n",
      "\n",
      "     Open Price High Price low Price last Price last Trade MIC Time Time Zone  \\\n",
      "3          27.5       27.5      27.5       27.5    05/01/2023 09:12       CET   \n",
      "4          89.1       92.3      88.1       91.4    06/01/2023 16:25       CET   \n",
      "5          3.04       3.04         3       3.04    06/01/2023 17:35       CET   \n",
      "6          2.34       2.34      2.26       2.29    06/01/2023 16:28       CET   \n",
      "7          2.62       2.71      2.62       2.71    06/01/2023 17:19       CET   \n",
      "...         ...        ...       ...        ...                 ...       ...   \n",
      "1747       1.48       1.48      1.48       1.48    06/01/2023 14:25       CET   \n",
      "1748       0.17        0.2      0.17        0.2    04/08/2015 16:20       CET   \n",
      "1749     0.1102     0.1102     0.098      0.102    06/01/2023 16:25       CET   \n",
      "1750        219        219       219        219    04/01/2023 11:30       CET   \n",
      "1751          5          5         5          5    06/01/2023 16:25       CET   \n",
      "\n",
      "       Volume     Turnover  \n",
      "3          94         2585  \n",
      "4      116974  1.05642e+07  \n",
      "5        5297      16076.9  \n",
      "6      315440       722027  \n",
      "7        1110      2961.25  \n",
      "...       ...          ...  \n",
      "1747       12        17.76  \n",
      "1748    21826      3755.94  \n",
      "1749  2193942       224710  \n",
      "1750        1          219  \n",
      "1751      181          905  \n",
      "\n",
      "[1749 rows x 13 columns]\n"
     ]
    }
   ],
   "source": [
    "print(list_tck)"
   ]
  },
  {
   "cell_type": "code",
   "execution_count": 20,
   "metadata": {},
   "outputs": [],
   "source": [
    "def currency_pair(ticker1, ticker2):\n",
    "    pair = str(ticker1 + '/' + ticker2)\n",
    "    return pair\n",
    "\n",
    "def fetch_cryptodata(ticker,tf):\n",
    "    bars,ticker_df = None, None\n",
    "    bars = exchange.fetch_ohlcv(ticker, timeframe=str(tf), limit=100) #faire varier timeframe\n",
    "    \n",
    "    if bars is not None:\n",
    "        ticker_df = pd.DataFrame(bars[:-1], columns=['at', 'open', 'high', 'low', 'close', 'vol'])\n",
    "        ticker_df['Date'] = pd.to_datetime(ticker_df['at'], unit='ms')\n",
    "        ticker_df['symbol'] = ticker\n",
    "\n",
    "    return ticker_df"
   ]
  },
  {
   "cell_type": "code",
   "execution_count": 21,
   "metadata": {},
   "outputs": [
    {
     "name": "stdout",
     "output_type": "stream",
     "text": [
      "BTC/EUR\n"
     ]
    }
   ],
   "source": [
    "pair = currency_pair('BTC','EUR')\n",
    "print(pair)"
   ]
  },
  {
   "cell_type": "code",
   "execution_count": 19,
   "metadata": {},
   "outputs": [
    {
     "ename": "NameError",
     "evalue": "name 'exchange' is not defined",
     "output_type": "error",
     "traceback": [
      "\u001b[0;31m---------------------------------------------------------------------------\u001b[0m",
      "\u001b[0;31mNameError\u001b[0m                                 Traceback (most recent call last)",
      "\u001b[0;32m<ipython-input-19-bdc89fab5a03>\u001b[0m in \u001b[0;36m<module>\u001b[0;34m\u001b[0m\n\u001b[0;32m----> 1\u001b[0;31m \u001b[0mfetch_cryptodata\u001b[0m\u001b[0;34m(\u001b[0m\u001b[0mpair\u001b[0m\u001b[0;34m,\u001b[0m\u001b[0;34m'5m'\u001b[0m\u001b[0;34m)\u001b[0m\u001b[0;34m\u001b[0m\u001b[0;34m\u001b[0m\u001b[0m\n\u001b[0m",
      "\u001b[0;32m<ipython-input-17-2187ff874aac>\u001b[0m in \u001b[0;36mfetch_cryptodata\u001b[0;34m(ticker, tf)\u001b[0m\n\u001b[1;32m      6\u001b[0m     \u001b[0;32mglobal\u001b[0m \u001b[0mexchange\u001b[0m\u001b[0;34m\u001b[0m\u001b[0;34m\u001b[0m\u001b[0m\n\u001b[1;32m      7\u001b[0m     \u001b[0mbars\u001b[0m\u001b[0;34m,\u001b[0m\u001b[0mticker_df\u001b[0m \u001b[0;34m=\u001b[0m \u001b[0;32mNone\u001b[0m\u001b[0;34m,\u001b[0m \u001b[0;32mNone\u001b[0m\u001b[0;34m\u001b[0m\u001b[0;34m\u001b[0m\u001b[0m\n\u001b[0;32m----> 8\u001b[0;31m     \u001b[0mbars\u001b[0m \u001b[0;34m=\u001b[0m \u001b[0mexchange\u001b[0m\u001b[0;34m.\u001b[0m\u001b[0mfetch_ohlcv\u001b[0m\u001b[0;34m(\u001b[0m\u001b[0mticker\u001b[0m\u001b[0;34m,\u001b[0m \u001b[0mtimeframe\u001b[0m\u001b[0;34m=\u001b[0m\u001b[0mstr\u001b[0m\u001b[0;34m(\u001b[0m\u001b[0mtf\u001b[0m\u001b[0;34m)\u001b[0m\u001b[0;34m,\u001b[0m \u001b[0mlimit\u001b[0m\u001b[0;34m=\u001b[0m\u001b[0;36m100\u001b[0m\u001b[0;34m)\u001b[0m \u001b[0;31m#faire varier timeframe\u001b[0m\u001b[0;34m\u001b[0m\u001b[0;34m\u001b[0m\u001b[0m\n\u001b[0m\u001b[1;32m      9\u001b[0m \u001b[0;34m\u001b[0m\u001b[0m\n\u001b[1;32m     10\u001b[0m     \u001b[0;32mif\u001b[0m \u001b[0mbars\u001b[0m \u001b[0;32mis\u001b[0m \u001b[0;32mnot\u001b[0m \u001b[0;32mNone\u001b[0m\u001b[0;34m:\u001b[0m\u001b[0;34m\u001b[0m\u001b[0;34m\u001b[0m\u001b[0m\n",
      "\u001b[0;31mNameError\u001b[0m: name 'exchange' is not defined"
     ]
    }
   ],
   "source": [
    "fetch_cryptodata(pair,'5m')"
   ]
  },
  {
   "cell_type": "code",
   "execution_count": null,
   "metadata": {},
   "outputs": [],
   "source": []
  },
  {
   "cell_type": "code",
   "execution_count": null,
   "metadata": {},
   "outputs": [],
   "source": []
  },
  {
   "cell_type": "code",
   "execution_count": null,
   "metadata": {},
   "outputs": [],
   "source": []
  },
  {
   "cell_type": "code",
   "execution_count": null,
   "metadata": {},
   "outputs": [],
   "source": []
  },
  {
   "cell_type": "code",
   "execution_count": null,
   "metadata": {},
   "outputs": [],
   "source": []
  },
  {
   "cell_type": "code",
   "execution_count": null,
   "metadata": {},
   "outputs": [],
   "source": []
  },
  {
   "cell_type": "code",
   "execution_count": null,
   "metadata": {},
   "outputs": [],
   "source": []
  }
 ],
 "metadata": {
  "kernelspec": {
   "display_name": "Python 3",
   "language": "python",
   "name": "python3"
  },
  "language_info": {
   "codemirror_mode": {
    "name": "ipython",
    "version": 3
   },
   "file_extension": ".py",
   "mimetype": "text/x-python",
   "name": "python",
   "nbconvert_exporter": "python",
   "pygments_lexer": "ipython3",
   "version": "3.8.5"
  }
 },
 "nbformat": 4,
 "nbformat_minor": 4
}
